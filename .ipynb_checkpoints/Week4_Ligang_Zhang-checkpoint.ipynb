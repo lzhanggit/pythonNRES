{
 "cells": [
  {
   "cell_type": "markdown",
   "metadata": {},
   "source": [
    "1. Write a Python program that prints all the numbers from 0 to 6 except 3 and 6.Note : Use ’continue’ statement.Expected Output : 0 1 2 4 5"
   ]
  },
  {
   "cell_type": "code",
   "execution_count": 2,
   "metadata": {},
   "outputs": [
    {
     "name": "stdout",
     "output_type": "stream",
     "text": [
      "0 1 2 4 5 \n"
     ]
    }
   ],
   "source": [
    "for x in range(6):\n",
    "    if (x == 3 or x == 6):\n",
    "        continue\n",
    "    print(x,end=' ')\n",
    "print(\"\")"
   ]
  },
  {
   "cell_type": "markdown",
   "metadata": {},
   "source": [
    "2. Write a Python program to check the validity of password input by users.Validation :\n",
    "    At least 1 letter between [a-z] and 1 letter between [A-Z].\n",
    "    At least 1 number between [0-9].\n",
    "    At least 1 character from [$ #  @].\n",
    "    Minimum length 6 characters.\n",
    "    Maximum length 16 characters."
   ]
  },
  {
   "cell_type": "code",
   "execution_count": 3,
   "metadata": {},
   "outputs": [
    {
     "name": "stdout",
     "output_type": "stream",
     "text": [
      "Input your password11\n",
      "Not a Valid Password\n"
     ]
    }
   ],
   "source": [
    "import re\n",
    "p= input(\"Input your password\")\n",
    "x = True\n",
    "while x:  \n",
    "    if (len(p)<6 or len(p)>16):\n",
    "        break\n",
    "    elif not re.search(\"[a-z]\",p):\n",
    "        break\n",
    "    elif not re.search(\"[0-9]\",p):\n",
    "        break\n",
    "    elif not re.search(\"[A-Z]\",p):\n",
    "        break\n",
    "    elif not re.search(\"[$#@]\",p):\n",
    "        break\n",
    "    elif re.search(\"\\s\",p):\n",
    "        break\n",
    "    else:\n",
    "        print(\"Valid Password\")\n",
    "        x=False\n",
    "        break\n",
    "\n",
    "if x:\n",
    "    print(\"Not a Valid Password\")"
   ]
  },
  {
   "cell_type": "markdown",
   "metadata": {},
   "source": [
    "3. Write a Python program to construct the following pattern, using a nested for loop."
   ]
  },
  {
   "cell_type": "code",
   "execution_count": 40,
   "metadata": {},
   "outputs": [
    {
     "name": "stdout",
     "output_type": "stream",
     "text": [
      "\n",
      "* \n",
      "* * \n",
      "* * * \n",
      "* * * * \n",
      "* * * * * \n",
      "* * * * \n",
      "* * * \n",
      "* * \n",
      "* \n"
     ]
    }
   ],
   "source": [
    "n=5;\n",
    "for i in range(n):\n",
    "    for j in range(i):\n",
    "        print ('* ', end=\"\")\n",
    "    print('')\n",
    "\n",
    "for i in range(n,0,-1):\n",
    "    for j in range(i):\n",
    "        print('* ', end=\"\")\n",
    "    print('')"
   ]
  },
  {
   "cell_type": "code",
   "execution_count": null,
   "metadata": {},
   "outputs": [],
   "source": []
  },
  {
   "cell_type": "code",
   "execution_count": 7,
   "metadata": {},
   "outputs": [
    {
     "ename": "SyntaxError",
     "evalue": "invalid syntax (<ipython-input-7-70de1be1fcb7>, line 4)",
     "output_type": "error",
     "traceback": [
      "\u001b[1;36m  File \u001b[1;32m\"<ipython-input-7-70de1be1fcb7>\"\u001b[1;36m, line \u001b[1;32m4\u001b[0m\n\u001b[1;33m    Accidents each year = [25, 79, 46, 90, 29, 88, 79, 93, 20, 11]\u001b[0m\n\u001b[1;37m                 ^\u001b[0m\n\u001b[1;31mSyntaxError\u001b[0m\u001b[1;31m:\u001b[0m invalid syntax\n"
     ]
    }
   ],
   "source": [
    "Brand = [Ford, Ford, Chevy, Chevy, Honda, Ford, Honda, Honda, Ford, Chevy]\n",
    "Model = [F150, Escape, Charger, Charger, Civic, Escape, CRV, CRV, F150, Silverado]\n",
    "Type = [Pickup, SUV, Sedan, Sedan, Sedan, SUV, SUV, SUV, Pickup, Pickup]\n",
    "Accidents each year = [25, 79, 46, 90, 29, 88, 79, 93, 20, 11]\n",
    "#Find the brand and model of the safest car\n",
    "min(Accidents each year)"
   ]
  },
  {
   "cell_type": "markdown",
   "metadata": {},
   "source": [
    "5. Classify daily temperatures (in degrees Celsius) stored in the temperatures list belowinto four different classes:\n"
   ]
  },
  {
   "cell_type": "code",
   "execution_count": 22,
   "metadata": {},
   "outputs": [
    {
     "name": "stdout",
     "output_type": "stream",
     "text": [
      "[-5.4, -4.8, -4.4, -2.2, -3.9, -2.5, -4.6, -2.4, -3.3, -4.8, -2.8, -4.7, -5.6, -2.7, -4.6]\n",
      "[1.0, -1.3, 0.1, 1.9, 1.0, -0.8, -0.1, -0.4, -0.9, 1.6, 1.8, 1.6, 1.5, 1.4, 1.6, -0.0]\n",
      "[3.9, 4.0, 4.4, 5.1, 2.1, 2.6, 3.4, 3.1, 2.4, 4.2, 3.5, 2.6, 3.1, 2.2, 3.3, 4.7, 4.0, 3.6, 4.9, 4.8, 5.3, 5.6, 4.1, 3.7, 7.6, 6.9, 5.1, 6.4, 3.8, 4.0, 8.6, 4.1, 8.9, 3.0, 8.5, 4.7, 6.6, 8.1, 4.5, 4.8, 11.3, 4.7, 5.2, 11.5, 6.2, 2.9, 4.3, 2.8, 2.8, 6.3, 2.6, 7.3, 3.4, 4.7, 9.3, 6.4, 5.4, 7.6, 5.2]\n",
      "[]\n",
      "-3.913333333333333\n",
      "0.625\n",
      "5.018644067796609\n"
     ]
    }
   ],
   "source": [
    "temperatures = [-5.4, 1.0, -1.3, -4.8, 3.9, 0.1, -4.4, 4.0, -2.2, -3.9, 4.4, -2.5, -4.6, \n",
    "                5.1, 2.1, -2.4, 1.9, -3.3, -4.8, 1.0, -0.8, -2.8, -0.1, -4.7, -5.6, 2.6,\n",
    "-2.7, -4.6, 3.4, -0.4, -0.9, 3.1, 2.4, 1.6, 4.2, 3.5, 2.6, 3.1, 2.2, 1.8, 3.3,\n",
    "1.6, 1.5, 4.7, 4.0, 3.6, 4.9, 4.8, 5.3, 5.6, 4.1, 3.7, 7.6, 6.9, 5.1, 6.4, 3.8,\n",
    "4.0, 8.6, 4.1, 1.4, 8.9, 3.0, 1.6, 8.5, 4.7, 6.6, 8.1, 4.5, 4.8, 11.3, 4.7, 5.2,\n",
    "11.5, 6.2, 2.9, 4.3, 2.8, 2.8, 6.3, 2.6, -0.0, 7.3, 3.4, 4.7, 9.3, 6.4, 5.4, 7.6,\n",
    "5.2]\n",
    "cold = [n for n in temperatures if n <= -2]\n",
    "slippery = [n for n in temperatures if n <= 2 and n > -2]\n",
    "comfortable = [n for n in temperatures if n > 2 and n <= 15]\n",
    "warm = [n for n in temperatures if n > 15]\n",
    "print(cold)\n",
    "print(slippery)\n",
    "print(comfortable)\n",
    "print(warm)\n",
    "def ave(num):\n",
    "    nsum = 0\n",
    "    for i in range(len(num)):\n",
    "        nsum += num[i]\n",
    "    return nsum / len(num)\n",
    "print(ave(cold))\n",
    "print(ave(slippery))\n",
    "print(ave(comfortable))\n"
   ]
  },
  {
   "cell_type": "markdown",
   "metadata": {},
   "source": [
    "6. Given a string, find the length of the longest substring without repeating characters."
   ]
  },
  {
   "cell_type": "code",
   "execution_count": 44,
   "metadata": {
    "scrolled": true
   },
   "outputs": [
    {
     "data": {
      "text/plain": [
       "'asdhhh'"
      ]
     },
     "execution_count": 44,
     "metadata": {},
     "output_type": "execute_result"
    }
   ],
   "source": [
    "def findLongestSubstring(string): \n",
    "    n = len(string)  \n",
    "    st = 0\n",
    "    maxlen = 0\n",
    "    start = 0\n",
    "    pos = {}  \n",
    "    pos[string[0]] = 0\n",
    "    for i in range(1, n):  \n",
    "        if string[i] not in pos:  \n",
    "            pos[string[i]] = i  \n",
    "        else: \n",
    "            currlen = i - st  \n",
    "            if maxlen < currlen:  \n",
    "                maxlen = currlen  \n",
    "                start = st  \n",
    "                st = pos[string[i]] + 1\n",
    "            pos[string[i]] = i  \n",
    "    if maxlen < i - st:  \n",
    "        maxlen = i - st  \n",
    "        start = st  \n",
    "    return string[start : start + maxlen]  \n",
    "findLongestSubstring(\"hhhhhasdhhha\")"
   ]
  },
  {
   "cell_type": "markdown",
   "metadata": {},
   "source": [
    "7. Given an array nums of n integers, are there elements a, b, c in nums such that a + b +\n",
    "c = 0? Find all unique triplets in the array which gives the sum of zero. The solution set\n",
    "must not contain duplicate triplets."
   ]
  },
  {
   "cell_type": "code",
   "execution_count": 38,
   "metadata": {},
   "outputs": [
    {
     "name": "stdout",
     "output_type": "stream",
     "text": [
      "0 -1 1\n",
      "2 -3 1\n"
     ]
    }
   ],
   "source": [
    "def findTriplets(arr, n): \n",
    "    found = True\n",
    "    for i in range(0, n-2): \n",
    "        for j in range(i+1, n-1): \n",
    "            for k in range(j+1, n): \n",
    "                if (arr[i] + arr[j] + arr[k] == 0): \n",
    "                    print(arr[i], arr[j], arr[k]) \n",
    "                    found = True\n",
    "    if (found == False): \n",
    "        print(\" not exist \") \n",
    "\n",
    "arr = [0, -1, 2, -3, 1] \n",
    "n = len(arr) \n",
    "findTriplets(arr, n) "
   ]
  },
  {
   "cell_type": "code",
   "execution_count": null,
   "metadata": {},
   "outputs": [],
   "source": []
  }
 ],
 "metadata": {
  "kernelspec": {
   "display_name": "Python 3",
   "language": "python",
   "name": "python3"
  },
  "language_info": {
   "codemirror_mode": {
    "name": "ipython",
    "version": 3
   },
   "file_extension": ".py",
   "mimetype": "text/x-python",
   "name": "python",
   "nbconvert_exporter": "python",
   "pygments_lexer": "ipython3",
   "version": "3.7.4"
  }
 },
 "nbformat": 4,
 "nbformat_minor": 2
}
