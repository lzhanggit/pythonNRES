{
 "cells": [
  {
   "cell_type": "markdown",
   "metadata": {},
   "source": [
    "# If statement"
   ]
  },
  {
   "cell_type": "code",
   "execution_count": 1,
   "metadata": {},
   "outputs": [
    {
     "name": "stdout",
     "output_type": "stream",
     "text": [
      "warm\n"
     ]
    }
   ],
   "source": [
    "T = 70\n",
    "if T < 70:\n",
    "    print('cool')\n",
    "else:\n",
    "    print('warm')"
   ]
  },
  {
   "cell_type": "code",
   "execution_count": 2,
   "metadata": {},
   "outputs": [
    {
     "name": "stdout",
     "output_type": "stream",
     "text": [
      "Wear a raincoat\n",
      "Wear rain boots\n",
      "Bring an umbrella\n"
     ]
    }
   ],
   "source": [
    "# execute as many lines as you want\n",
    "weather = 'rain'\n",
    "\n",
    "if weather == 'rain':\n",
    "    print('Wear a raincoat')\n",
    "    print('Wear rain boots')\n",
    "    print('Bring an umbrella')\n",
    "else:\n",
    "    print('No rainwear needed')"
   ]
  },
  {
   "cell_type": "code",
   "execution_count": 3,
   "metadata": {},
   "outputs": [
    {
     "name": "stdout",
     "output_type": "stream",
     "text": [
      "C\n"
     ]
    }
   ],
   "source": [
    "# nested if statement\n",
    "score = 76\n",
    "\n",
    "if score >= 90:\n",
    "   print('A')\n",
    "else:\n",
    "   if score >=80:\n",
    "      print('B')\n",
    "   else:\n",
    "      if score >= 70:\n",
    "         print('C')\n",
    "      else:\n",
    "         if score >= 60:\n",
    "            print('D')\n",
    "         else:\n",
    "            print('F')"
   ]
  },
  {
   "cell_type": "code",
   "execution_count": 4,
   "metadata": {},
   "outputs": [
    {
     "name": "stdout",
     "output_type": "stream",
     "text": [
      "C\n"
     ]
    }
   ],
   "source": [
    "# using `elif` will be easier to read\n",
    "if score >= 90:\n",
    "   print('A')\n",
    "elif score >=80:\n",
    "   print('B')\n",
    "elif score >= 70:\n",
    "   print('C')\n",
    "elif score >= 60:\n",
    "   print('D')\n",
    "else:\n",
    "   print('F')"
   ]
  },
  {
   "cell_type": "code",
   "execution_count": 5,
   "metadata": {},
   "outputs": [
    {
     "name": "stdout",
     "output_type": "stream",
     "text": [
      "True\n",
      "False\n",
      "True\n"
     ]
    }
   ],
   "source": [
    "# Relational operators\n",
    "# between numeric\n",
    "a = 90; b = 80\n",
    "print(a >  b)\n",
    "print(a <= b)\n",
    "print(a != b)"
   ]
  },
  {
   "cell_type": "code",
   "execution_count": 14,
   "metadata": {},
   "outputs": [
    {
     "name": "stdout",
     "output_type": "stream",
     "text": [
      "True\n",
      "True\n",
      "False\n",
      "False\n"
     ]
    }
   ],
   "source": [
    "# between string\n",
    "a = 'hello'; b = 'world'; c = 'Hello'; d = 'hello0'\n",
    "print(a < b)\n",
    "print(a < d)\n",
    "print(a == b)\n",
    "print(a.lower() == b.lower())"
   ]
  },
  {
   "cell_type": "code",
   "execution_count": 13,
   "metadata": {},
   "outputs": [
    {
     "data": {
      "text/plain": [
       "True"
      ]
     },
     "execution_count": 13,
     "metadata": {},
     "output_type": "execute_result"
    }
   ],
   "source": [
    "'A' < 'a'"
   ]
  },
  {
   "cell_type": "code",
   "execution_count": 15,
   "metadata": {},
   "outputs": [
    {
     "name": "stdout",
     "output_type": "stream",
     "text": [
      "True\n",
      "True\n"
     ]
    }
   ],
   "source": [
    "# between collections\n",
    "a = [1, 2, 3]\n",
    "b = [1, 2, 4]\n",
    "c = [1, 2, 3]\n",
    "print(a == c)\n",
    "print(a < b)"
   ]
  },
  {
   "cell_type": "code",
   "execution_count": 16,
   "metadata": {},
   "outputs": [
    {
     "ename": "TypeError",
     "evalue": "'<' not supported between instances of 'int' and 'str'",
     "output_type": "error",
     "traceback": [
      "\u001b[1;31m---------------------------------------------------------------------------\u001b[0m",
      "\u001b[1;31mTypeError\u001b[0m                                 Traceback (most recent call last)",
      "\u001b[1;32m<ipython-input-16-df295390ce3e>\u001b[0m in \u001b[0;36m<module>\u001b[1;34m\u001b[0m\n\u001b[1;32m----> 1\u001b[1;33m \u001b[1;36m1\u001b[0m \u001b[1;33m<\u001b[0m \u001b[1;34m'1'\u001b[0m\u001b[1;33m\u001b[0m\u001b[1;33m\u001b[0m\u001b[0m\n\u001b[0m",
      "\u001b[1;31mTypeError\u001b[0m: '<' not supported between instances of 'int' and 'str'"
     ]
    }
   ],
   "source": [
    "1 < '1'"
   ]
  },
  {
   "cell_type": "code",
   "execution_count": 17,
   "metadata": {},
   "outputs": [
    {
     "name": "stdout",
     "output_type": "stream",
     "text": [
      "a is greater than b\n",
      "B\n"
     ]
    }
   ],
   "source": [
    "# one line if statement\n",
    "if a < b: print(\"a is greater than b\")\n",
    "print(\"A\") if a > b else print(\"B\")"
   ]
  },
  {
   "cell_type": "code",
   "execution_count": 18,
   "metadata": {},
   "outputs": [
    {
     "name": "stdout",
     "output_type": "stream",
     "text": [
      "warm\n"
     ]
    }
   ],
   "source": [
    "# inline if expression\n",
    "T = 71\n",
    "feel = 'cool' if T < 70 else 'warm'\n",
    "print(feel)"
   ]
  },
  {
   "cell_type": "code",
   "execution_count": 19,
   "metadata": {},
   "outputs": [
    {
     "name": "stdout",
     "output_type": "stream",
     "text": [
      "warm\n"
     ]
    }
   ],
   "source": [
    "# nested inline if expression\n",
    "T = 80\n",
    "feel = 'cold' if T < 30 else 'cool' if T < 70 else 'warm'\n",
    "print(feel)"
   ]
  },
  {
   "cell_type": "code",
   "execution_count": 20,
   "metadata": {
    "scrolled": false
   },
   "outputs": [
    {
     "name": "stdout",
     "output_type": "stream",
     "text": [
      "=\n"
     ]
    }
   ],
   "source": [
    "# more inline if statement\n",
    "a = 330\n",
    "b = 330\n",
    "\n",
    "print(\"A\") if a > b else print(\"=\") if a == b else print(\"B\")\n"
   ]
  },
  {
   "cell_type": "code",
   "execution_count": 21,
   "metadata": {},
   "outputs": [
    {
     "name": "stdout",
     "output_type": "stream",
     "text": [
      "A is the largest number.\n",
      "A could be the largest number.\n"
     ]
    }
   ],
   "source": [
    "# logical operator: or, and,  not\n",
    "a = 10\n",
    "b = 5\n",
    "c = 1\n",
    "\n",
    "if a > b and a > c: print('A is the largest number.')\n",
    "if a > b and a < c: print('A is the middle number.')\n",
    "    \n",
    "if a > b or a > c: print('A could be the largest number.')\n",
    "if a < b or a < c: print('A could be the smallest number.')"
   ]
  },
  {
   "cell_type": "code",
   "execution_count": 22,
   "metadata": {},
   "outputs": [
    {
     "name": "stdout",
     "output_type": "stream",
     "text": [
      "84 44 26\n",
      "True\n",
      "82 8 75\n",
      "True\n",
      "68 76 44\n",
      "True\n",
      "28 83 30\n",
      "True\n",
      "50 22 6\n",
      "True\n",
      "48 50 22\n",
      "True\n",
      "31 55 17\n",
      "True\n",
      "51 22 49\n",
      "True\n",
      "94 28 7\n",
      "True\n",
      "98 12 83\n",
      "True\n"
     ]
    }
   ],
   "source": [
    "import random\n",
    "def check_logical_op(a, b, c):\n",
    "    print((a < b or a > c) == (not (a >= b and a <= c)))\n",
    "\n",
    "for i in range(10):\n",
    "    a = random.randint(1, 100)\n",
    "    b = random.randint(1, 100)\n",
    "    c = random.randint(1, 100)\n",
    "    print(a, b, c)\n",
    "    check_logical_op(a, b, c)"
   ]
  },
  {
   "cell_type": "markdown",
   "metadata": {},
   "source": [
    "# Iteration"
   ]
  },
  {
   "cell_type": "code",
   "execution_count": 23,
   "metadata": {},
   "outputs": [
    {
     "name": "stdout",
     "output_type": "stream",
     "text": [
      "a = 1\n",
      "a = 2\n",
      "a = 3\n",
      "a = 4\n",
      "a = 5\n"
     ]
    }
   ],
   "source": [
    "# while loop\n",
    "a = 0\n",
    "while a < 5:\n",
    "    a += 1\n",
    "    print('a =', a)"
   ]
  },
  {
   "cell_type": "code",
   "execution_count": 24,
   "metadata": {},
   "outputs": [
    {
     "name": "stdout",
     "output_type": "stream",
     "text": [
      "i = 1\n",
      "i = 2\n",
      "i = 3\n",
      "i = 4\n",
      "i = 5\n"
     ]
    }
   ],
   "source": [
    "# for loop (prefered if the iteration range is known and the index is not changed in the iteration)\n",
    "for i in range(1, 6):\n",
    "    print('i =', i)"
   ]
  },
  {
   "cell_type": "code",
   "execution_count": 25,
   "metadata": {},
   "outputs": [
    {
     "name": "stdout",
     "output_type": "stream",
     "text": [
      "b\n",
      "a\n",
      "n\n",
      "a\n",
      "n\n",
      "a\n"
     ]
    }
   ],
   "source": [
    "# loop a string\n",
    "for x in \"banana\":\n",
    "  print(x)"
   ]
  },
  {
   "cell_type": "code",
   "execution_count": 29,
   "metadata": {},
   "outputs": [
    {
     "name": "stdout",
     "output_type": "stream",
     "text": [
      "0 4\n",
      "1 4\n",
      "2 4\n",
      "3 4\n",
      "4 4\n",
      "[(2, 4), (3, 3), (3, 4), (4, 2), (4, 3), (4, 4)]\n"
     ]
    }
   ],
   "source": [
    "# nested loop\n",
    "larger_5 = []\n",
    "for i in range(5):\n",
    "    for j in range(5):\n",
    "        if i + j > 5:\n",
    "            larger_5.append((i, j))\n",
    "    print(i, j)\n",
    "print(larger_5)"
   ]
  },
  {
   "cell_type": "code",
   "execution_count": 30,
   "metadata": {},
   "outputs": [
    {
     "name": "stdout",
     "output_type": "stream",
     "text": [
      "[0, 1, 2, 3, 4]\n",
      "[1, 2, 3, 4]\n",
      "[1, 3]\n"
     ]
    }
   ],
   "source": [
    "# range function (generator function)\n",
    "print(list(range(5)))\n",
    "print(list(range(1, 5)))\n",
    "print(list(range(1, 5, 2)))"
   ]
  },
  {
   "cell_type": "code",
   "execution_count": 32,
   "metadata": {},
   "outputs": [
    {
     "data": {
      "text/plain": [
       "range(0, 5)"
      ]
     },
     "execution_count": 32,
     "metadata": {},
     "output_type": "execute_result"
    }
   ],
   "source": [
    "range(5)"
   ]
  },
  {
   "cell_type": "code",
   "execution_count": 35,
   "metadata": {},
   "outputs": [
    {
     "name": "stdout",
     "output_type": "stream",
     "text": [
      "Value of i: 0\n",
      "Value of numbers[i] before addition: 0\n",
      "Value of numbers[i] after addition: 0\n",
      "\n",
      "Value of i: 1\n",
      "Value of numbers[i] before addition: 1\n",
      "Value of numbers[i] after addition: 2\n",
      "\n",
      "Value of i: 2\n",
      "Value of numbers[i] before addition: 2\n",
      "Value of numbers[i] after addition: 4\n",
      "\n",
      "Value of i: 3\n",
      "Value of numbers[i] before addition: 3\n",
      "Value of numbers[i] after addition: 6\n",
      "\n"
     ]
    }
   ],
   "source": [
    "# Looping over the length of lists using index values\n",
    "numbers = [0, 1, 2, 3]\n",
    "\n",
    "for x in numbers:\n",
    "    print('Value of i:', x)\n",
    "    print('Value of numbers[i] before addition:', x)\n",
    "    x = x + x\n",
    "    print('Value of numbers[i] after addition:', x)\n",
    "    print('')"
   ]
  },
  {
   "cell_type": "code",
   "execution_count": 36,
   "metadata": {},
   "outputs": [
    {
     "name": "stdout",
     "output_type": "stream",
     "text": [
      "[0, 1, 2, 3]\n"
     ]
    }
   ],
   "source": [
    "# list has been changed\n",
    "print(numbers)"
   ]
  },
  {
   "cell_type": "code",
   "execution_count": 37,
   "metadata": {},
   "outputs": [
    {
     "name": "stdout",
     "output_type": "stream",
     "text": [
      "Value of i: 0\n",
      "Value of numbers[i] before addition: 0\n",
      "Value of numbers[i] after addition: 0\n",
      "\n",
      "Value of i: 1\n",
      "Value of numbers[i] before addition: 1\n",
      "Value of numbers[i] after addition: 2\n",
      "\n",
      "Value of i: 2\n",
      "Value of numbers[i] before addition: 2\n",
      "Value of numbers[i] after addition: 4\n",
      "\n",
      "Value of i: 3\n",
      "Value of numbers[i] before addition: 3\n",
      "Value of numbers[i] after addition: 6\n",
      "\n"
     ]
    }
   ],
   "source": [
    "# Pythoner way: enumrate\n",
    "numbers = [0, 1, 2, 3]\n",
    "for i, n in enumerate(numbers):\n",
    "    print('Value of i:', i)\n",
    "    print('Value of numbers[i] before addition:', n)\n",
    "    n += i\n",
    "    print('Value of numbers[i] after addition:', n)\n",
    "    print('')\n",
    "    "
   ]
  },
  {
   "cell_type": "code",
   "execution_count": 38,
   "metadata": {},
   "outputs": [
    {
     "name": "stdout",
     "output_type": "stream",
     "text": [
      "[0, 1, 2, 3]\n"
     ]
    }
   ],
   "source": [
    "# list was NOT changed\n",
    "print(numbers)"
   ]
  },
  {
   "cell_type": "code",
   "execution_count": 41,
   "metadata": {},
   "outputs": [
    {
     "data": {
      "text/plain": [
       "[(0, 0), (1, 1), (2, 2), (3, 3)]"
      ]
     },
     "execution_count": 41,
     "metadata": {},
     "output_type": "execute_result"
    }
   ],
   "source": [
    "# enumerate is a genreator function\n",
    "list(enumerate(numbers))"
   ]
  },
  {
   "cell_type": "code",
   "execution_count": 42,
   "metadata": {},
   "outputs": [
    {
     "name": "stdout",
     "output_type": "stream",
     "text": [
      "Helsinki is the capital of Finland\n",
      "Stockholm is the capital of Sweden\n",
      "Oslo is the capital of Norway\n",
      "Reykjavik is the capital of Iceland\n",
      "Copenhagen is the capital of Denmark\n"
     ]
    }
   ],
   "source": [
    "# Loop index is useful when dealing with multiple lists.\n",
    "countries = ['Finland', 'Sweden', 'Norway', 'Iceland', 'Denmark']\n",
    "cities = ['Helsinki', 'Stockholm', 'Oslo', 'Reykjavik', 'Copenhagen']\n",
    "for i in range(len(cities)):\n",
    "    print(cities[i], 'is the capital of', countries[i])"
   ]
  },
  {
   "cell_type": "code",
   "execution_count": 43,
   "metadata": {},
   "outputs": [
    {
     "name": "stdout",
     "output_type": "stream",
     "text": [
      "0 is not hot\n",
      "12 is not hot\n",
      "17 is not hot\n",
      "28 celsius degrees is hot\n",
      "30 celsius degrees is hot\n"
     ]
    }
   ],
   "source": [
    "temperatures = [0, 12, 17, 28, 30]\n",
    "\n",
    "for temperature in temperatures:\n",
    "    if temperature > 25:\n",
    "        print(temperature, 'celsius degrees is hot')\n",
    "    else:\n",
    "        print(temperature, 'is not hot')"
   ]
  },
  {
   "cell_type": "code",
   "execution_count": 44,
   "metadata": {},
   "outputs": [
    {
     "name": "stdout",
     "output_type": "stream",
     "text": [
      "['0', '1', '2', '3', '4']\n",
      "['a', 'b', 'c', 'd', 'e']\n"
     ]
    }
   ],
   "source": [
    "# list comprehension\n",
    "print([str(i) for i in range(5)])\n",
    "print([chr(97+i) for i in range(5)])"
   ]
  },
  {
   "cell_type": "code",
   "execution_count": null,
   "metadata": {},
   "outputs": [],
   "source": []
  },
  {
   "cell_type": "markdown",
   "metadata": {},
   "source": [
    "# function"
   ]
  },
  {
   "cell_type": "code",
   "execution_count": 1,
   "metadata": {},
   "outputs": [],
   "source": [
    "# The simplest function\n",
    "def f():\n",
    "    pass\n",
    "\n",
    "f()"
   ]
  },
  {
   "cell_type": "code",
   "execution_count": 46,
   "metadata": {},
   "outputs": [
    {
     "data": {
      "text/plain": [
       "<function __main__.f()>"
      ]
     },
     "execution_count": 46,
     "metadata": {},
     "output_type": "execute_result"
    }
   ],
   "source": [
    "f"
   ]
  },
  {
   "cell_type": "code",
   "execution_count": 47,
   "metadata": {},
   "outputs": [
    {
     "name": "stdout",
     "output_type": "stream",
     "text": [
      "Help on function f in module __main__:\n",
      "\n",
      "f()\n",
      "    This function does *NOTHING*.\n",
      "\n"
     ]
    }
   ],
   "source": [
    "# Using docstring, some IDE supports markdown syntax\n",
    "def f():\n",
    "    '''\n",
    "    This function does *NOTHING*.\n",
    "    '''\n",
    "    pass\n",
    "\n",
    "help(f)"
   ]
  },
  {
   "cell_type": "code",
   "execution_count": 48,
   "metadata": {},
   "outputs": [
    {
     "data": {
      "text/plain": [
       "['__annotations__',\n",
       " '__call__',\n",
       " '__class__',\n",
       " '__closure__',\n",
       " '__code__',\n",
       " '__defaults__',\n",
       " '__delattr__',\n",
       " '__dict__',\n",
       " '__dir__',\n",
       " '__doc__',\n",
       " '__eq__',\n",
       " '__format__',\n",
       " '__ge__',\n",
       " '__get__',\n",
       " '__getattribute__',\n",
       " '__globals__',\n",
       " '__gt__',\n",
       " '__hash__',\n",
       " '__init__',\n",
       " '__init_subclass__',\n",
       " '__kwdefaults__',\n",
       " '__le__',\n",
       " '__lt__',\n",
       " '__module__',\n",
       " '__name__',\n",
       " '__ne__',\n",
       " '__new__',\n",
       " '__qualname__',\n",
       " '__reduce__',\n",
       " '__reduce_ex__',\n",
       " '__repr__',\n",
       " '__setattr__',\n",
       " '__sizeof__',\n",
       " '__str__',\n",
       " '__subclasshook__']"
      ]
     },
     "execution_count": 48,
     "metadata": {},
     "output_type": "execute_result"
    }
   ],
   "source": [
    "dir(f)"
   ]
  },
  {
   "cell_type": "code",
   "execution_count": 49,
   "metadata": {},
   "outputs": [
    {
     "name": "stdout",
     "output_type": "stream",
     "text": [
      "\n",
      "    This function does *NOTHING*.\n",
      "    \n"
     ]
    }
   ],
   "source": [
    "print(f.__doc__)"
   ]
  },
  {
   "cell_type": "code",
   "execution_count": 2,
   "metadata": {},
   "outputs": [
    {
     "name": "stdout",
     "output_type": "stream",
     "text": [
      "1\n"
     ]
    }
   ],
   "source": [
    "# Use return to return a value\n",
    "def f():\n",
    "    '''\n",
    "    This function does *NOTHING*.\n",
    "    '''\n",
    "    return 1\n",
    "\n",
    "print(f())"
   ]
  },
  {
   "cell_type": "code",
   "execution_count": 51,
   "metadata": {},
   "outputs": [
    {
     "name": "stdout",
     "output_type": "stream",
     "text": [
      "13\n",
      "7\n",
      "10\n"
     ]
    }
   ],
   "source": [
    "# Parameters\n",
    "def sumup(a, b=1, c=2):\n",
    "    \"\"\"sum up a;; parameters\"\"\"\n",
    "    return a + b + c\n",
    "\n",
    "print(sumup(10))\n",
    "print(sumup(2, 3))\n",
    "print(sumup(4, c=5))"
   ]
  },
  {
   "cell_type": "code",
   "execution_count": 52,
   "metadata": {},
   "outputs": [
    {
     "name": "stdout",
     "output_type": "stream",
     "text": [
      "1 2 3\n",
      "1 2 3\n"
     ]
    }
   ],
   "source": [
    "def print_them(a, b, c):\n",
    "    print(a, b, c)\n",
    "\n",
    "print_them(1, 2, 3)\n",
    "print_them(b=2, c=3, a=1)"
   ]
  },
  {
   "cell_type": "code",
   "execution_count": 53,
   "metadata": {},
   "outputs": [
    {
     "name": "stdout",
     "output_type": "stream",
     "text": [
      "10\n"
     ]
    }
   ],
   "source": [
    "print(sumup(b=4, c=5, a=1))"
   ]
  },
  {
   "cell_type": "code",
   "execution_count": 54,
   "metadata": {},
   "outputs": [
    {
     "name": "stdout",
     "output_type": "stream",
     "text": [
      "1 2 3\n"
     ]
    }
   ],
   "source": [
    "# A very cool way to give multiple arguments\n",
    "abc = [1, 2, 3]\n",
    "print_them(*abc)\n",
    "print_them(abc[0], abc[1], abc[2])"
   ]
  },
  {
   "cell_type": "code",
   "execution_count": 55,
   "metadata": {},
   "outputs": [
    {
     "name": "stdout",
     "output_type": "stream",
     "text": [
      "1\n",
      "2\n",
      "3\n",
      "('a', 1)\n",
      "('b', 2)\n"
     ]
    }
   ],
   "source": [
    "def print_args_kwargs(*args, **kwargs):\n",
    "  for arg in args:\n",
    "    print(arg)\n",
    "\n",
    "  for k, v in kwargs.items():\n",
    "    print((k, v))\n",
    "    \n",
    "print_args_kwargs(1, 2, 3)  \n",
    "print_args_kwargs(a=1, b=2) "
   ]
  },
  {
   "cell_type": "code",
   "execution_count": 56,
   "metadata": {},
   "outputs": [
    {
     "name": "stdout",
     "output_type": "stream",
     "text": [
      "13\n",
      "4\n",
      "4\n"
     ]
    }
   ],
   "source": [
    "def sum_args(a, b=1, c=2, *args, **kwargs):\n",
    "    s = a + b + c + sum(args) + sum(kwargs.values())\n",
    "    return s\n",
    "\n",
    "print(sum_args(10))\n",
    "print(sum_args(1, 1, 1, 1))\n",
    "print(sum_args(1, 1, 1, d=1))"
   ]
  },
  {
   "cell_type": "code",
   "execution_count": 57,
   "metadata": {},
   "outputs": [
    {
     "name": "stdout",
     "output_type": "stream",
     "text": [
      "0.479425538604203\n",
      "-0.5984600690578581\n"
     ]
    }
   ],
   "source": [
    "# function as a parameter\n",
    "import math\n",
    "def cal_func(a, func):\n",
    "    return func(a)\n",
    "\n",
    "print(cal_func(0.5, math.sin))\n",
    "print(cal_func(180, math.cos))"
   ]
  },
  {
   "cell_type": "code",
   "execution_count": 58,
   "metadata": {},
   "outputs": [
    {
     "data": {
      "text/plain": [
       "[1, 4, 9, 16, 25]"
      ]
     },
     "execution_count": 58,
     "metadata": {},
     "output_type": "execute_result"
    }
   ],
   "source": [
    "# map function\n",
    "a = [1, 2, 3, 4, 5]\n",
    "list(map(lambda x: x**2, a))"
   ]
  },
  {
   "cell_type": "code",
   "execution_count": 60,
   "metadata": {},
   "outputs": [
    {
     "data": {
      "text/plain": [
       "[1, 4, 9, 16, 25]"
      ]
     },
     "execution_count": 60,
     "metadata": {},
     "output_type": "execute_result"
    }
   ],
   "source": [
    "[i**2 for i in a]"
   ]
  },
  {
   "cell_type": "code",
   "execution_count": 61,
   "metadata": {},
   "outputs": [
    {
     "name": "stdout",
     "output_type": "stream",
     "text": [
      "[4, 5]\n",
      "[1, 2, 3]\n"
     ]
    }
   ],
   "source": [
    "# filter function\n",
    "a = [1, 2, 3, 4, 5]\n",
    "print(list(filter(lambda x: x>3, a)))\n",
    "print(list(filter(lambda x: x<=3, a)))"
   ]
  },
  {
   "cell_type": "markdown",
   "metadata": {},
   "source": [
    "### recursive function"
   ]
  },
  {
   "cell_type": "code",
   "execution_count": 63,
   "metadata": {},
   "outputs": [],
   "source": [
    "def fibonacci_simple(n):\n",
    "    '''\n",
    "    Construction of fibonacci sequence using for loop\n",
    "    '''\n",
    "    x = [1, 1]\n",
    "    if n <= 2:\n",
    "        return x[n - 1]\n",
    "    else:\n",
    "        for i in range(3, n + 1):\n",
    "            f = sum(x)\n",
    "            x[0] = x[1] \n",
    "            x[1] = f\n",
    "        return f    \n",
    "    "
   ]
  },
  {
   "cell_type": "code",
   "execution_count": 65,
   "metadata": {},
   "outputs": [],
   "source": [
    "def fibonacci_recursive(n):\n",
    "    '''\n",
    "    Construction of fibonacci sequence using recursive functions\n",
    "    '''\n",
    "    if n <= 2:\n",
    "        return 1\n",
    "    else:\n",
    "        return fibonacci_recursive(n-1) + fibonacci_recursive(n-2)"
   ]
  },
  {
   "cell_type": "code",
   "execution_count": 66,
   "metadata": {},
   "outputs": [],
   "source": [
    "fibonacci_cache = {} \n",
    "\n",
    "def fibonacci_memoized(n):\n",
    "    '''\n",
    "    Construction of fibonacci sequence using recursive functions with memoization\n",
    "    '''\n",
    "    # cached values\n",
    "    if n in fibonacci_cache:\n",
    "        return fibonacci_cache[n]\n",
    "    \n",
    "    # not cached\n",
    "    if n <= 2:\n",
    "        result = 1\n",
    "    else:\n",
    "        result = fibonacci_memoized(n-1) + fibonacci_memoized(n-2)\n",
    "        \n",
    "    fibonacci_cache[n] = result\n",
    "    return result"
   ]
  },
  {
   "cell_type": "code",
   "execution_count": 67,
   "metadata": {},
   "outputs": [
    {
     "name": "stdout",
     "output_type": "stream",
     "text": [
      "33.4 µs ± 1.41 µs per loop (mean ± std. dev. of 7 runs, 10000 loops each)\n",
      "2.21 ms ± 44.8 µs per loop (mean ± std. dev. of 7 runs, 100 loops each)\n",
      "2.8 µs ± 230 ns per loop (mean ± std. dev. of 7 runs, 100000 loops each)\n"
     ]
    }
   ],
   "source": [
    "%timeit for i in range(1, 20): fibonacci_simple(i)\n",
    "%timeit for i in range(1, 20): fibonacci_recursive(i)\n",
    "%timeit for i in range(1, 20): fibonacci_memoized(i)"
   ]
  },
  {
   "cell_type": "code",
   "execution_count": null,
   "metadata": {},
   "outputs": [],
   "source": [
    "# run the second time\n",
    "%timeit for i in range(1, 20): fibonacci_recursive(i)\n",
    "%timeit for i in range(1, 20): fibonacci_memoized(i)"
   ]
  },
  {
   "cell_type": "code",
   "execution_count": null,
   "metadata": {},
   "outputs": [],
   "source": []
  }
 ],
 "metadata": {
  "kernelspec": {
   "display_name": "Python 3",
   "language": "python",
   "name": "python3"
  },
  "language_info": {
   "codemirror_mode": {
    "name": "ipython",
    "version": 3
   },
   "file_extension": ".py",
   "mimetype": "text/x-python",
   "name": "python",
   "nbconvert_exporter": "python",
   "pygments_lexer": "ipython3",
   "version": "3.7.4"
  }
 },
 "nbformat": 4,
 "nbformat_minor": 4
}
