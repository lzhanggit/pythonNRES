{
 "cells": [
  {
   "cell_type": "markdown",
   "metadata": {},
   "source": [
    "1. Write a Python function that takes a list of words and reytrns the length of the longest one"
   ]
  },
  {
   "cell_type": "code",
   "execution_count": 60,
   "metadata": {},
   "outputs": [
    {
     "data": {
      "text/plain": [
       "(8, 'resberry')"
      ]
     },
     "execution_count": 60,
     "metadata": {},
     "output_type": "execute_result"
    }
   ],
   "source": [
    "list1 = ['apple', 'banana', 'resberry', 'avacado']\n",
    "def get_longest_word(word_list):\n",
    "    max_len = 0\n",
    "    for word in word_list:\n",
    "        if len(word) > max_len:\n",
    "            max_len = len(word)\n",
    "            result = word\n",
    "    return max_len, result\n",
    "\n",
    "get_longest_word(list1)"
   ]
  },
  {
   "cell_type": "markdown",
   "metadata": {},
   "source": [
    "2. Write a Python program to count the number of characters in a string"
   ]
  },
  {
   "cell_type": "code",
   "execution_count": 68,
   "metadata": {},
   "outputs": [
    {
     "data": {
      "text/plain": [
       "11"
      ]
     },
     "execution_count": 68,
     "metadata": {},
     "output_type": "execute_result"
    }
   ],
   "source": [
    "text = \"hello world\"\n",
    "def count_chars(txt):\n",
    "    result = 0\n",
    "    for char in txt:\n",
    "        result += 1\n",
    "    return result\n",
    "count_chars(text)"
   ]
  },
  {
   "cell_type": "code",
   "execution_count": 76,
   "metadata": {},
   "outputs": [
    {
     "data": {
      "text/plain": [
       "11"
      ]
     },
     "execution_count": 76,
     "metadata": {},
     "output_type": "execute_result"
    }
   ],
   "source": [
    "# second \n",
    "text = \"hello world\"\n",
    "def count_chars2(txt):\n",
    "    return len(list(txt))\n",
    "count_chars2(text)"
   ]
  },
  {
   "cell_type": "markdown",
   "metadata": {},
   "source": [
    "3. Write a Python program to sort (ascending and descending) a dictionary by value"
   ]
  },
  {
   "cell_type": "code",
   "execution_count": 2,
   "metadata": {},
   "outputs": [
    {
     "name": "stdout",
     "output_type": "stream",
     "text": [
      "{'a': 1, 'b': 100, 'c': 77, 'd': 66, 'e': 55}\n"
     ]
    },
    {
     "data": {
      "text/plain": [
       "[('a', 1), ('e', 55), ('d', 66), ('c', 77), ('b', 100)]"
      ]
     },
     "execution_count": 2,
     "metadata": {},
     "output_type": "execute_result"
    }
   ],
   "source": [
    "dict1 = {'a':1, 'b':100, 'c':77, 'd':66, 'e':55}\n",
    "print(dict1)\n",
    "sorted(dict1.items(),key=lambda item:item[1])\n",
    "\n"
   ]
  },
  {
   "cell_type": "markdown",
   "metadata": {},
   "source": [
    "4. Write a Python program to change a givern string to a new string where the first and last chars have been exchanged."
   ]
  },
  {
   "cell_type": "code",
   "execution_count": 38,
   "metadata": {},
   "outputs": [
    {
     "name": "stdout",
     "output_type": "stream",
     "text": [
      "ABCello worlXYZ\n"
     ]
    }
   ],
   "source": [
    "text1 = 'hello world'\n",
    "list1 = list(text1)\n",
    "list1[0] = 'ABC'\n",
    "list1[-1] = 'XYZ'\n",
    "text2 = ''.join(list1)\n",
    "print(text2)"
   ]
  },
  {
   "cell_type": "markdown",
   "metadata": {},
   "source": [
    "5. Write a Python function that takes two lists and returns True if they have at least one common member."
   ]
  },
  {
   "cell_type": "code",
   "execution_count": 66,
   "metadata": {},
   "outputs": [
    {
     "name": "stdout",
     "output_type": "stream",
     "text": [
      "{'apple', 'banana'}\n",
      "true\n"
     ]
    }
   ],
   "source": [
    "list1 = ['apple', 'banana', 'resberry', 'avacado']\n",
    "list2 = ['apple', 'banana', 'strawberry', 'cherry']\n",
    "list3 = set(list1).intersection(set(list2))\n",
    "print(list3)\n",
    "if list3:\n",
    "    print(\"true\")\n",
    "else:\n",
    "    print(\"false\")\n",
    "    "
   ]
  },
  {
   "cell_type": "markdown",
   "metadata": {},
   "source": [
    "6. Write a Python function that return the minimum number of coins ($0.01, $0.1, $0.25, $1) that make a given value."
   ]
  },
  {
   "cell_type": "code",
   "execution_count": 57,
   "metadata": {},
   "outputs": [
    {
     "name": "stdout",
     "output_type": "stream",
     "text": [
      "[88, 3, 1, 3]\n",
      "{'$1': 88, '$0.25': 3, '$0.1': 1, '$0.01': 3}\n"
     ]
    }
   ],
   "source": [
    "def main():\n",
    "    return_change = 88.88 # input value here\n",
    "    coins_list = [1, 0.25, 0.1, 0.01]\n",
    "    coin1 = int(return_change/coins_list[0])\n",
    "    cent1 = round(return_change - coin1, 2)\n",
    "    coin2 = int(cent1/coins_list[1])\n",
    "    cent2 = round(cent1 - coin2*coins_list[1], 2)\n",
    "    coin3 = int(cent2/coins_list[2])\n",
    "    cent3 = round(cent2 - coin3*coins_list[2], 2)\n",
    "    coin4 = int(cent3/coins_list[3])\n",
    "    return_coins = [coin1, coin2, coin3, coin4]\n",
    "    return_dict = {\"$1\": coin1, \"$0.25\": coin2, \"$0.1\": coin3, \"$0.01\":coin4}\n",
    "    print(return_coins)\n",
    "    print(return_dict)\n",
    "if __name__ == \"__main__\":\n",
    "    main()"
   ]
  },
  {
   "cell_type": "code",
   "execution_count": null,
   "metadata": {},
   "outputs": [],
   "source": []
  }
 ],
 "metadata": {
  "kernelspec": {
   "display_name": "Python 3",
   "language": "python",
   "name": "python3"
  },
  "language_info": {
   "codemirror_mode": {
    "name": "ipython",
    "version": 3
   },
   "file_extension": ".py",
   "mimetype": "text/x-python",
   "name": "python",
   "nbconvert_exporter": "python",
   "pygments_lexer": "ipython3",
   "version": "3.7.4"
  }
 },
 "nbformat": 4,
 "nbformat_minor": 2
}
