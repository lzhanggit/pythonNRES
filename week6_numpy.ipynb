{
 "cells": [
  {
   "cell_type": "markdown",
   "metadata": {},
   "source": [
    "# Creating array"
   ]
  },
  {
   "cell_type": "code",
   "execution_count": 1,
   "metadata": {},
   "outputs": [
    {
     "name": "stdout",
     "output_type": "stream",
     "text": [
      "[1, 2, 3] [1 2 3]\n",
      "(1, 2, 3) [1 2 3]\n"
     ]
    }
   ],
   "source": [
    "from sys import getsizeof\n",
    "import numpy as np\n",
    "import matplotlib.pyplot as plt\n",
    "\n",
    "# using list or tuple\n",
    "print([1, 2, 3], np.array([1, 2, 3]))\n",
    "print((1, 2, 3), np.array((1, 2, 3)))"
   ]
  },
  {
   "cell_type": "code",
   "execution_count": 6,
   "metadata": {},
   "outputs": [
    {
     "ename": "ValueError",
     "evalue": "only 2 non-keyword arguments accepted",
     "output_type": "error",
     "traceback": [
      "\u001b[1;31m---------------------------------------------------------------------------\u001b[0m",
      "\u001b[1;31mValueError\u001b[0m                                Traceback (most recent call last)",
      "\u001b[1;32m<ipython-input-6-8dc42934cc78>\u001b[0m in \u001b[0;36m<module>\u001b[1;34m\u001b[0m\n\u001b[0;32m      1\u001b[0m \u001b[1;31m# does not work with multiple numeric arguments\u001b[0m\u001b[1;33m\u001b[0m\u001b[1;33m\u001b[0m\u001b[1;33m\u001b[0m\u001b[0m\n\u001b[1;32m----> 2\u001b[1;33m \u001b[0ma\u001b[0m \u001b[1;33m=\u001b[0m \u001b[0mnp\u001b[0m\u001b[1;33m.\u001b[0m\u001b[0marray\u001b[0m\u001b[1;33m(\u001b[0m\u001b[1;36m1\u001b[0m\u001b[1;33m,\u001b[0m\u001b[1;36m2\u001b[0m\u001b[1;33m,\u001b[0m\u001b[1;36m3\u001b[0m\u001b[1;33m,\u001b[0m\u001b[1;36m4\u001b[0m\u001b[1;33m)\u001b[0m    \u001b[1;31m# WRONG\u001b[0m\u001b[1;33m\u001b[0m\u001b[1;33m\u001b[0m\u001b[0m\n\u001b[0m",
      "\u001b[1;31mValueError\u001b[0m: only 2 non-keyword arguments accepted"
     ]
    }
   ],
   "source": [
    "# does not work with multiple numeric arguments\n",
    "a = np.array(1,2,3,4)    # WRONG"
   ]
  },
  {
   "cell_type": "code",
   "execution_count": 7,
   "metadata": {},
   "outputs": [
    {
     "name": "stdout",
     "output_type": "stream",
     "text": [
      "[[1, 2, 3], [4, 5, 6]]\n",
      "[[1 2 3]\n",
      " [4 5 6]]\n"
     ]
    }
   ],
   "source": [
    "# milti-level list -> multi-dimensional array\n",
    "print([[1, 2, 3], [4, 5, 6]])\n",
    "print(np.array([[1, 2, 3], [4, 5, 6]]))"
   ]
  },
  {
   "cell_type": "code",
   "execution_count": 8,
   "metadata": {},
   "outputs": [
    {
     "name": "stdout",
     "output_type": "stream",
     "text": [
      "[[1, 2, 3], [4, 5, 6]]\n",
      "[array([1, 2, 3]), array([4, 5, 6])]\n"
     ]
    }
   ],
   "source": [
    "# convert back to list\n",
    "a = np.array([[1, 2, 3], [4, 5, 6]])\n",
    "print(a.tolist())\n",
    "print(list(a))"
   ]
  },
  {
   "cell_type": "code",
   "execution_count": 9,
   "metadata": {},
   "outputs": [
    {
     "name": "stdout",
     "output_type": "stream",
     "text": [
      "[0 1 2 3 4 5 6 7 8 9]\n",
      "[2 3 4 5 6 7 8 9]\n",
      "[2 4 6 8]\n"
     ]
    }
   ],
   "source": [
    "# using arange\n",
    "print(np.arange(10))\n",
    "print(np.arange(2, 10))\n",
    "print(np.arange(2, 10, 2))"
   ]
  },
  {
   "cell_type": "code",
   "execution_count": 10,
   "metadata": {},
   "outputs": [
    {
     "name": "stdout",
     "output_type": "stream",
     "text": [
      "[ 0.  2.  4.  6.  8. 10.]\n",
      "[  0.  10.  20.  30.  40.  50.  60.  70.  80.  90. 100.]\n"
     ]
    }
   ],
   "source": [
    "# using linspace() to generate evenly spaced numbers\n",
    "print(np.linspace(0, 10, 6))\n",
    "print(np.linspace(0, 100, 11))"
   ]
  },
  {
   "cell_type": "code",
   "execution_count": 11,
   "metadata": {},
   "outputs": [
    {
     "data": {
      "text/plain": [
       "array([ 0.00000000e+00,  1.25333234e-01,  2.48689887e-01,  3.68124553e-01,\n",
       "        4.81753674e-01,  5.87785252e-01,  6.84547106e-01,  7.70513243e-01,\n",
       "        8.44327926e-01,  9.04827052e-01,  9.51056516e-01,  9.82287251e-01,\n",
       "        9.98026728e-01,  9.98026728e-01,  9.82287251e-01,  9.51056516e-01,\n",
       "        9.04827052e-01,  8.44327926e-01,  7.70513243e-01,  6.84547106e-01,\n",
       "        5.87785252e-01,  4.81753674e-01,  3.68124553e-01,  2.48689887e-01,\n",
       "        1.25333234e-01, -3.21624530e-16, -1.25333234e-01, -2.48689887e-01,\n",
       "       -3.68124553e-01, -4.81753674e-01, -5.87785252e-01, -6.84547106e-01,\n",
       "       -7.70513243e-01, -8.44327926e-01, -9.04827052e-01, -9.51056516e-01,\n",
       "       -9.82287251e-01, -9.98026728e-01, -9.98026728e-01, -9.82287251e-01,\n",
       "       -9.51056516e-01, -9.04827052e-01, -8.44327926e-01, -7.70513243e-01,\n",
       "       -6.84547106e-01, -5.87785252e-01, -4.81753674e-01, -3.68124553e-01,\n",
       "       -2.48689887e-01, -1.25333234e-01, -2.44929360e-16])"
      ]
     },
     "execution_count": 11,
     "metadata": {},
     "output_type": "execute_result"
    }
   ],
   "source": [
    "np.sin(np.linspace( 0, 2*np.pi, 51 ) )"
   ]
  },
  {
   "cell_type": "code",
   "execution_count": 14,
   "metadata": {},
   "outputs": [
    {
     "name": "stdout",
     "output_type": "stream",
     "text": [
      "[[1. 1. 1. 1.]\n",
      " [1. 1. 1. 1.]\n",
      " [1. 1. 1. 1.]] \n",
      "\n",
      "[[0. 0. 0. 0.]\n",
      " [0. 0. 0. 0.]\n",
      " [0. 0. 0. 0.]] \n",
      "\n",
      "[[0. 0. 0. 0.]\n",
      " [0. 0. 0. 0.]\n",
      " [0. 0. 0. 0.]] \n",
      "\n",
      "[['hello' 'hello' 'hello' 'hello']\n",
      " ['hello' 'hello' 'hello' 'hello']\n",
      " ['hello' 'hello' 'hello' 'hello']] \n",
      "\n"
     ]
    }
   ],
   "source": [
    "# create uniform array\n",
    "print(np.ones([3, 4]), '\\n')\n",
    "print(np.zeros([3, 4]), '\\n')\n",
    "print(np.empty([3, 4]), '\\n')\n",
    "print(np.full([3, 4], 'hello'), '\\n')"
   ]
  },
  {
   "cell_type": "code",
   "execution_count": 15,
   "metadata": {},
   "outputs": [
    {
     "name": "stdout",
     "output_type": "stream",
     "text": [
      "[[1. 1. 1. 1.]\n",
      " [1. 1. 1. 1.]\n",
      " [1. 1. 1. 1.]]\n"
     ]
    }
   ],
   "source": [
    "# create uniform array based on the shape of another array\n",
    "print(np.ones_like(np.zeros([3, 4])))"
   ]
  },
  {
   "cell_type": "markdown",
   "metadata": {},
   "source": [
    "# Data types"
   ]
  },
  {
   "cell_type": "code",
   "execution_count": 16,
   "metadata": {},
   "outputs": [
    {
     "name": "stdout",
     "output_type": "stream",
     "text": [
      "int32\n",
      "float64\n"
     ]
    }
   ],
   "source": [
    "print(np.dtype(int))\n",
    "print(np.dtype(float)) # takes up large storage when saving data in default types"
   ]
  },
  {
   "cell_type": "code",
   "execution_count": 17,
   "metadata": {},
   "outputs": [
    {
     "name": "stdout",
     "output_type": "stream",
     "text": [
      "[[1 1 1 1]\n",
      " [1 1 1 1]\n",
      " [1 1 1 1]] \n",
      "\n",
      "[['1' '1' '1' '1']\n",
      " ['1' '1' '1' '1']\n",
      " ['1' '1' '1' '1']] \n",
      "\n",
      "[[0 0 0 0]\n",
      " [0 0 0 0]\n",
      " [0 0 0 0]] \n",
      "\n",
      "[['' '' '' '']\n",
      " ['' '' '' '']\n",
      " ['' '' '' '']] \n",
      "\n",
      "[[0 0 0 0]\n",
      " [0 0 0 0]\n",
      " [0 0 0 0]] \n",
      "\n",
      "[['' '' '' '']\n",
      " ['' '' '' '']\n",
      " ['' '' '' '']] \n",
      "\n"
     ]
    }
   ],
   "source": [
    "# you can specify the date you want when creating a new array\n",
    "print(np.ones([3, 4], dtype=int), '\\n')\n",
    "print(np.ones([3, 4], dtype=str), '\\n')\n",
    "print(np.zeros([3, 4], dtype=int), '\\n')\n",
    "print(np.zeros([3, 4], dtype=str), '\\n')\n",
    "print(np.empty([3, 4], dtype=int), '\\n')\n",
    "print(np.empty([3, 4], dtype=str), '\\n')"
   ]
  },
  {
   "cell_type": "code",
   "execution_count": 21,
   "metadata": {},
   "outputs": [
    {
     "name": "stdout",
     "output_type": "stream",
     "text": [
      "10000000000000000\n",
      "1874919424\n",
      "0\n"
     ]
    }
   ],
   "source": [
    "# be careful about the range of a data type\n",
    "print(np.power(100, 8, dtype=np.int64))\n",
    "print(np.power(100, 8, dtype=np.int32))\n",
    "print(np.power(100, 8, dtype=np.int16))"
   ]
  },
  {
   "cell_type": "code",
   "execution_count": 22,
   "metadata": {},
   "outputs": [
    {
     "name": "stdout",
     "output_type": "stream",
     "text": [
      "Machine parameters for int64\n",
      "---------------------------------------------------------------\n",
      "min = -9223372036854775808\n",
      "max = 9223372036854775807\n",
      "---------------------------------------------------------------\n",
      "\n",
      "Machine parameters for int32\n",
      "---------------------------------------------------------------\n",
      "min = -2147483648\n",
      "max = 2147483647\n",
      "---------------------------------------------------------------\n",
      "\n",
      "Machine parameters for int16\n",
      "---------------------------------------------------------------\n",
      "min = -32768\n",
      "max = 32767\n",
      "---------------------------------------------------------------\n",
      "\n"
     ]
    }
   ],
   "source": [
    "# check the range\n",
    "print(np.iinfo(np.int64))\n",
    "print(np.iinfo(np.int32))\n",
    "print(np.iinfo(np.int16))"
   ]
  },
  {
   "cell_type": "code",
   "execution_count": 23,
   "metadata": {},
   "outputs": [
    {
     "name": "stdout",
     "output_type": "stream",
     "text": [
      "[('siteno', '<U10'), ('datetime', '<M8'), ('streamflow', '<f2')]\n"
     ]
    }
   ],
   "source": [
    "# structured array is very powerful to deal with table-like data (but we will learn about a more powerful tool very soon)\n",
    "dtype = np.dtype([('siteno', 'U10'), ('datetime', 'M'), ('streamflow', 'f2')])\n",
    "print(dtype)"
   ]
  },
  {
   "cell_type": "markdown",
   "metadata": {},
   "source": [
    "# Indexing"
   ]
  },
  {
   "cell_type": "code",
   "execution_count": 24,
   "metadata": {},
   "outputs": [
    {
     "name": "stdout",
     "output_type": "stream",
     "text": [
      "before 1.0\n",
      "after 2.0\n"
     ]
    }
   ],
   "source": [
    "# first of all array is mutable; the index is referencing to the location of the data (referencing)\n",
    "a = np.ones_like(np.zeros([3, 4]))\n",
    "print('before', a[1, 1])\n",
    "a[1, 1] = 2\n",
    "print('after', a[1, 1])"
   ]
  },
  {
   "cell_type": "code",
   "execution_count": 25,
   "metadata": {},
   "outputs": [
    {
     "name": "stdout",
     "output_type": "stream",
     "text": [
      "[0 1 2 3 4 5 6 7 8 9]\n",
      "[0 1 2 3 4]\n",
      "[7 8 9]\n",
      "[5 6 7 8 9]\n"
     ]
    }
   ],
   "source": [
    "# 1. indexing like lists\n",
    "#a1 = np.random.randint(1, 100, 10)\n",
    "a1 = np.arange(10)\n",
    "print(a1)\n",
    "print(a1[:5])\n",
    "print(a1[7:])\n",
    "print(a1[-5:])"
   ]
  },
  {
   "cell_type": "code",
   "execution_count": 26,
   "metadata": {},
   "outputs": [
    {
     "name": "stdout",
     "output_type": "stream",
     "text": [
      "[0 2 4 6]\n"
     ]
    }
   ],
   "source": [
    "# specify the step\n",
    "print(a1[:8:2])"
   ]
  },
  {
   "cell_type": "code",
   "execution_count": 27,
   "metadata": {},
   "outputs": [
    {
     "name": "stdout",
     "output_type": "stream",
     "text": [
      "[2 3 6 9]\n"
     ]
    }
   ],
   "source": [
    "# 2. numpy feature indexing by list/array of specific indices\n",
    "print(a1[[2, 3, 6, 9]])"
   ]
  },
  {
   "cell_type": "code",
   "execution_count": null,
   "metadata": {},
   "outputs": [],
   "source": [
    "# 2.2 what is returned when index arrays are used is an array with the same shape as the index array\n",
    "print(a1)\n",
    "print(a1[np.array([[2, 3], [-2, -1]])])"
   ]
  },
  {
   "cell_type": "code",
   "execution_count": 28,
   "metadata": {},
   "outputs": [
    {
     "name": "stdout",
     "output_type": "stream",
     "text": [
      "-3.9133333333333336\n",
      "0.625\n",
      "5.018644067796609\n"
     ]
    }
   ],
   "source": [
    "# numpy feature indexing by boolean\n",
    "temperatures = [-5.4, 1.0, -1.3, -4.8, 3.9, 0.1, -4.4, 4.0, -2.2, -3.9, 4.4,\n",
    "                -2.5, -4.6, 5.1, 2.1, -2.4, 1.9, -3.3, -4.8, 1.0, -0.8, -2.8,\n",
    "                -0.1, -4.7, -5.6, 2.6, -2.7, -4.6, 3.4, -0.4, -0.9, 3.1, 2.4,\n",
    "                1.6, 4.2, 3.5, 2.6, 3.1, 2.2, 1.8, 3.3, 1.6, 1.5, 4.7, 4.0,\n",
    "                3.6, 4.9, 4.8, 5.3, 5.6, 4.1, 3.7, 7.6, 6.9, 5.1, 6.4, 3.8,\n",
    "                4.0, 8.6, 4.1, 1.4, 8.9, 3.0, 1.6, 8.5, 4.7, 6.6, 8.1, 4.5,\n",
    "                4.8, 11.3, 4.7, 5.2, 11.5, 6.2, 2.9, 4.3, 2.8, 2.8, 6.3, 2.6,\n",
    "                -0.0, 7.3, 3.4, 4.7, 9.3, 6.4, 5.4, 7.6, 5.2]\n",
    "temp = np.array(temperatures)\n",
    "\n",
    "temp1 = temp[temp < -2]\n",
    "temp2 = temp[(temp >= -2) & (temp < 2)]\n",
    "temp3 = temp[(temp >= 2)  & (temp < 15)]\n",
    "\n",
    "print(temp1.mean())\n",
    "print(temp2.mean())\n",
    "print(temp3.mean())"
   ]
  },
  {
   "cell_type": "code",
   "execution_count": 39,
   "metadata": {},
   "outputs": [
    {
     "data": {
      "text/plain": [
       "array([[-5.4,  nan,  nan, -4.8,  nan,  nan, -4.4,  nan, -2.2, -3.9,  nan,\n",
       "        -2.5, -4.6,  nan,  nan, -2.4,  nan, -3.3, -4.8,  nan,  nan, -2.8,\n",
       "         nan, -4.7, -5.6,  nan, -2.7, -4.6,  nan,  nan,  nan,  nan,  nan,\n",
       "         nan,  nan,  nan,  nan,  nan,  nan,  nan,  nan,  nan,  nan,  nan,\n",
       "         nan,  nan,  nan,  nan,  nan,  nan,  nan,  nan,  nan,  nan,  nan,\n",
       "         nan,  nan,  nan,  nan,  nan,  nan,  nan,  nan,  nan,  nan,  nan,\n",
       "         nan,  nan,  nan,  nan,  nan,  nan,  nan,  nan,  nan,  nan,  nan,\n",
       "         nan,  nan,  nan,  nan,  nan,  nan,  nan,  nan,  nan,  nan,  nan,\n",
       "         nan,  nan],\n",
       "       [ nan,  1. , -1.3,  nan,  nan,  0.1,  nan,  nan,  nan,  nan,  nan,\n",
       "         nan,  nan,  nan,  nan,  nan,  1.9,  nan,  nan,  1. , -0.8,  nan,\n",
       "        -0.1,  nan,  nan,  nan,  nan,  nan,  nan, -0.4, -0.9,  nan,  nan,\n",
       "         1.6,  nan,  nan,  nan,  nan,  nan,  1.8,  nan,  1.6,  1.5,  nan,\n",
       "         nan,  nan,  nan,  nan,  nan,  nan,  nan,  nan,  nan,  nan,  nan,\n",
       "         nan,  nan,  nan,  nan,  nan,  1.4,  nan,  nan,  1.6,  nan,  nan,\n",
       "         nan,  nan,  nan,  nan,  nan,  nan,  nan,  nan,  nan,  nan,  nan,\n",
       "         nan,  nan,  nan,  nan, -0. ,  nan,  nan,  nan,  nan,  nan,  nan,\n",
       "         nan,  nan],\n",
       "       [ nan,  nan,  nan,  nan,  3.9,  nan,  nan,  4. ,  nan,  nan,  4.4,\n",
       "         nan,  nan,  5.1,  2.1,  nan,  nan,  nan,  nan,  nan,  nan,  nan,\n",
       "         nan,  nan,  nan,  2.6,  nan,  nan,  3.4,  nan,  nan,  3.1,  2.4,\n",
       "         nan,  4.2,  3.5,  2.6,  3.1,  2.2,  nan,  3.3,  nan,  nan,  4.7,\n",
       "         4. ,  3.6,  4.9,  4.8,  5.3,  5.6,  4.1,  3.7,  7.6,  6.9,  5.1,\n",
       "         6.4,  3.8,  4. ,  8.6,  4.1,  nan,  8.9,  3. ,  nan,  8.5,  4.7,\n",
       "         6.6,  8.1,  4.5,  4.8, 11.3,  4.7,  5.2, 11.5,  6.2,  2.9,  4.3,\n",
       "         2.8,  2.8,  6.3,  2.6,  nan,  7.3,  3.4,  4.7,  9.3,  6.4,  5.4,\n",
       "         7.6,  5.2]])"
      ]
     },
     "execution_count": 39,
     "metadata": {},
     "output_type": "execute_result"
    }
   ],
   "source": [
    "# Numpy broadcasting\n",
    "temp = np.tile(temperatures, 3).reshape([3, -1])\n",
    "lower = np.array([-np.inf, -2, 2]).reshape([3, 1])\n",
    "upper = np.array([-2, 2, 15]).reshape([3, 1])\n",
    " \n",
    "temp = np.where((temp > lower) & (temp <= upper), temp, np.nan )\n",
    "temp"
   ]
  },
  {
   "cell_type": "code",
   "execution_count": 40,
   "metadata": {},
   "outputs": [
    {
     "data": {
      "text/plain": [
       "array([-3.91333333,  0.625     ,  5.01864407])"
      ]
     },
     "execution_count": 40,
     "metadata": {},
     "output_type": "execute_result"
    }
   ],
   "source": [
    "np.nanmean(temp, axis=1)"
   ]
  },
  {
   "cell_type": "code",
   "execution_count": 41,
   "metadata": {},
   "outputs": [
    {
     "name": "stdout",
     "output_type": "stream",
     "text": [
      "29.2 µs ± 1.7 µs per loop (mean ± std. dev. of 7 runs, 10000 loops each)\n",
      "62.5 µs ± 469 ns per loop (mean ± std. dev. of 7 runs, 10000 loops each)\n"
     ]
    }
   ],
   "source": [
    "def method1(temperatures):\n",
    "    temp = np.array(temperatures)\n",
    "    temp1 = temp[temp < -2]\n",
    "    temp2 = temp[(temp >= -2) & (temp < 2)]\n",
    "    temp3 = temp[(temp >= 2)  & (temp < 15)]\n",
    "\n",
    "    return temp1.mean(), temp2.mean(), temp3.mean()\n",
    "\n",
    "def method2(temperatures):\n",
    "    temp = np.tile(temperatures, 3).reshape([3, len(temperatures)])\n",
    "    lower = np.array([-np.inf, -2, 2]).reshape([3, 1])\n",
    "    upper = np.array([-2, 2, 15]).reshape([3, 1])\n",
    "\n",
    "    temp = np.where((temp > lower) & (temp <= upper), temp, np.nan )\n",
    "    return(np.nanmean(temp, axis=1))\n",
    "\n",
    "%timeit method1(temperatures)\n",
    "%timeit method2(temperatures)"
   ]
  },
  {
   "cell_type": "code",
   "execution_count": 42,
   "metadata": {},
   "outputs": [
    {
     "name": "stdout",
     "output_type": "stream",
     "text": [
      "[0 4 5]\n"
     ]
    }
   ],
   "source": [
    "# boolean indexing returns a 1-D array containing all the elements in the indexed array \n",
    "# corresponding to all the true elements in the boolean array\n",
    "a1 = np.arange(6).reshape([2, 3])\n",
    "b  = np.array(\n",
    "        [[True, False, False],\n",
    "         [False, True, True]])\n",
    "print(a1[b])"
   ]
  },
  {
   "cell_type": "code",
   "execution_count": 43,
   "metadata": {},
   "outputs": [
    {
     "data": {
      "text/plain": [
       "array([[0, 1],\n",
       "       [4, 5]])"
      ]
     },
     "execution_count": 43,
     "metadata": {},
     "output_type": "execute_result"
    }
   ],
   "source": [
    "# unless the array has more dimension than the index array\n",
    "a2 = a1.reshape([3, 2])\n",
    "b = np.array([True, False, True])\n",
    "a2[b]"
   ]
  },
  {
   "cell_type": "code",
   "execution_count": 49,
   "metadata": {},
   "outputs": [
    {
     "name": "stdout",
     "output_type": "stream",
     "text": [
      "[[ 0  1  2  3]\n",
      " [ 4  5  6  7]\n",
      " [ 8  9 10 11]\n",
      " [12 13 14 15]]\n",
      "[[1 3]\n",
      " [5 7]]\n"
     ]
    }
   ],
   "source": [
    "# combining the indexing method\n",
    "a1 = np.arange(16).reshape([4,4])\n",
    "print(a1)\n",
    "print(a1[:2, [1,3]])\n"
   ]
  },
  {
   "cell_type": "code",
   "execution_count": 52,
   "metadata": {},
   "outputs": [
    {
     "name": "stdout",
     "output_type": "stream",
     "text": [
      "[0 1 2 3 4 5 6 7 8 9]\n"
     ]
    }
   ],
   "source": [
    "# assignment\n",
    "a = np.arange(10)\n",
    "print(a)"
   ]
  },
  {
   "cell_type": "code",
   "execution_count": 53,
   "metadata": {},
   "outputs": [
    {
     "name": "stdout",
     "output_type": "stream",
     "text": [
      "[1 1 1 1 1 1 1 1 1 1]\n"
     ]
    }
   ],
   "source": [
    "a[:] = 1\n",
    "print(a)"
   ]
  },
  {
   "cell_type": "code",
   "execution_count": null,
   "metadata": {},
   "outputs": [],
   "source": [
    "# change to another object\n",
    "a = 1\n",
    "print(a)"
   ]
  },
  {
   "cell_type": "markdown",
   "metadata": {},
   "source": [
    "# Change shape/dimension"
   ]
  },
  {
   "cell_type": "code",
   "execution_count": 54,
   "metadata": {},
   "outputs": [
    {
     "name": "stdout",
     "output_type": "stream",
     "text": [
      "[[7. 0. 2. 5.]\n",
      " [4. 6. 8. 2.]\n",
      " [2. 0. 1. 0.]]\n",
      "shape is (3, 4)\n"
     ]
    }
   ],
   "source": [
    "a = np.floor(10*np.random.random((3,4)))\n",
    "print(a)\n",
    "print('shape is', a.shape)"
   ]
  },
  {
   "cell_type": "code",
   "execution_count": 55,
   "metadata": {},
   "outputs": [
    {
     "name": "stdout",
     "output_type": "stream",
     "text": [
      "[7. 0. 2. 5. 4. 6. 8. 2. 2. 0. 1. 0.]\n",
      "[[7. 0. 2.]\n",
      " [5. 4. 6.]\n",
      " [8. 2. 2.]\n",
      " [0. 1. 0.]]\n",
      "[[7. 0.]\n",
      " [2. 5.]\n",
      " [4. 6.]\n",
      " [8. 2.]\n",
      " [2. 0.]\n",
      " [1. 0.]]\n"
     ]
    }
   ],
   "source": [
    "print(a.flatten())\n",
    "print(a.reshape(4, 3))\n",
    "print(a.reshape(6, 2))"
   ]
  },
  {
   "cell_type": "code",
   "execution_count": 56,
   "metadata": {},
   "outputs": [
    {
     "data": {
      "text/plain": [
       "array([[7., 4., 2.],\n",
       "       [0., 6., 0.],\n",
       "       [2., 8., 1.],\n",
       "       [5., 2., 0.]])"
      ]
     },
     "execution_count": 56,
     "metadata": {},
     "output_type": "execute_result"
    }
   ],
   "source": [
    "# transposed\n",
    "a.T"
   ]
  },
  {
   "cell_type": "code",
   "execution_count": 57,
   "metadata": {},
   "outputs": [
    {
     "name": "stdout",
     "output_type": "stream",
     "text": [
      "[[1 2 3]\n",
      " [3 5 6]]\n",
      "[1 2 3 3 5 6]\n",
      "[1 2 3 3 5 6]\n"
     ]
    }
   ],
   "source": [
    "# stacking\n",
    "a = [1, 2, 3]\n",
    "b = [3, 5, 6]\n",
    "\n",
    "print(np.vstack([a, b]))\n",
    "print(np.hstack([a, b]))\n",
    "print(np.concatenate([a, b]))"
   ]
  },
  {
   "cell_type": "code",
   "execution_count": 58,
   "metadata": {},
   "outputs": [
    {
     "name": "stdout",
     "output_type": "stream",
     "text": [
      "[[1 2 3]\n",
      " [3 5 6]]\n"
     ]
    }
   ],
   "source": [
    "a = np.array(a).reshape(1, 3)\n",
    "b = np.array(b).reshape(1, 3)\n",
    "print(np.concatenate([a, b], axis=0))\n"
   ]
  },
  {
   "cell_type": "markdown",
   "metadata": {},
   "source": [
    "# Armetic operationb"
   ]
  },
  {
   "cell_type": "code",
   "execution_count": 59,
   "metadata": {},
   "outputs": [
    {
     "name": "stdout",
     "output_type": "stream",
     "text": [
      "a: [2 2 2 2]\n",
      "b: [1 2 4 8]\n",
      "+: [ 3  4  6 10]\n",
      "-: [-1  0  2  6]\n",
      "*: [ 2  4  8 16]\n",
      "/: [0.5 1.  2.  4. ]\n",
      "%: [1 0 0 0]\n",
      "@: 30\n",
      "dot: 30\n"
     ]
    }
   ],
   "source": [
    "a = np.array([2, 2, 2, 2])\n",
    "b = np.array([1, 2, 4, 8])\n",
    "\n",
    "\n",
    "print('a:', a)\n",
    "print('b:', b)\n",
    "\n",
    "print('+:', b + a)\n",
    "print('-:', b - a)\n",
    "print('*:', b * a)\n",
    "print('/:', b / a)\n",
    "print('%:', b % a)\n",
    "print('@:', b @ a)      # Unlike in many matrix languages, the product operator * operates elementwise in NumPy arrays. \n",
    "print('dot:', b.dot(a)) # The matrix product can be performed using the @ operator (in python >=3.5) or the dot function or method:"
   ]
  },
  {
   "cell_type": "code",
   "execution_count": 60,
   "metadata": {},
   "outputs": [
    {
     "name": "stdout",
     "output_type": "stream",
     "text": [
      "b2: [ 1  4 16 64]\n",
      "b2: [1.         1.41421356 2.         2.82842712]\n"
     ]
    }
   ],
   "source": [
    "print('b2:', b ** 2)\n",
    "print('b2:', b ** 0.5)"
   ]
  },
  {
   "cell_type": "code",
   "execution_count": 61,
   "metadata": {},
   "outputs": [
    {
     "name": "stdout",
     "output_type": "stream",
     "text": [
      "[2 2 2 2]\n",
      "[3 3 3 3]\n"
     ]
    }
   ],
   "source": [
    "# += and *=, act in place to modify an existing array\n",
    "print(a)\n",
    "a += 1\n",
    "print(a)"
   ]
  },
  {
   "cell_type": "code",
   "execution_count": 62,
   "metadata": {},
   "outputs": [
    {
     "name": "stdout",
     "output_type": "stream",
     "text": [
      "15\n",
      "1\n",
      "8\n"
     ]
    }
   ],
   "source": [
    "# unary operations\n",
    "print(b.sum())\n",
    "print(b.min())\n",
    "print(b.max())"
   ]
  },
  {
   "cell_type": "code",
   "execution_count": 63,
   "metadata": {},
   "outputs": [
    {
     "name": "stdout",
     "output_type": "stream",
     "text": [
      "66\n",
      "[12 15 18 21]\n",
      "[ 6 22 38]\n"
     ]
    }
   ],
   "source": [
    "# for multidimensional\n",
    "b = np.arange(12).reshape(3,4)\n",
    "print(b.sum())\n",
    "print(b.sum(axis=0))\n",
    "print(b.sum(axis=1))"
   ]
  },
  {
   "cell_type": "markdown",
   "metadata": {},
   "source": [
    "# Common Numpy functions"
   ]
  },
  {
   "cell_type": "markdown",
   "metadata": {},
   "source": [
    "```\n",
    "all, any, apply_along_axis, \n",
    "argmax, argmin, argsort, average, bincount, ceil, \n",
    "clip, conj, corrcoef, cov, cross, cumprod, cumsum, diff, dot, floor, inner, inv, lexsort, \n",
    "max, maximum, mean, median, min, minimum, nonzero, outer, prod, re, \n",
    "round, sort, std, sum, trace, transpose, var, vdot, vectorize, where\n",
    "```"
   ]
  },
  {
   "cell_type": "code",
   "execution_count": 64,
   "metadata": {},
   "outputs": [
    {
     "data": {
      "text/plain": [
       "array([4, 6, 6, 5, 4])"
      ]
     },
     "execution_count": 64,
     "metadata": {},
     "output_type": "execute_result"
    }
   ],
   "source": [
    "# clip values\n",
    "a = np.array([3, 8, 7, 5, 4])\n",
    "np.clip(a, 4, 6)"
   ]
  },
  {
   "cell_type": "code",
   "execution_count": 65,
   "metadata": {},
   "outputs": [
    {
     "data": {
      "text/plain": [
       "array([ 3, 11, 18, 23, 27], dtype=int32)"
      ]
     },
     "execution_count": 65,
     "metadata": {},
     "output_type": "execute_result"
    }
   ],
   "source": [
    "# cumsum\n",
    "a.cumsum()"
   ]
  },
  {
   "cell_type": "code",
   "execution_count": 68,
   "metadata": {},
   "outputs": [
    {
     "name": "stdout",
     "output_type": "stream",
     "text": [
      "[14 32 55 82]\n",
      "[18 23 27]\n"
     ]
    }
   ],
   "source": [
    "# difference\n",
    "a = a.cumsum()\n",
    "print(np.diff(a))\n",
    "print(np.diff(a, 2))"
   ]
  },
  {
   "cell_type": "code",
   "execution_count": 71,
   "metadata": {},
   "outputs": [
    {
     "data": {
      "text/plain": [
       "array([ 8., nan, nan,  7.,  9.])"
      ]
     },
     "execution_count": 71,
     "metadata": {},
     "output_type": "execute_result"
    }
   ],
   "source": [
    "# where to replace\n",
    "a = np.array([8, 3, 5, 7, 9])\n",
    "np.where(a > 5, a, np.nan)"
   ]
  },
  {
   "cell_type": "code",
   "execution_count": 77,
   "metadata": {},
   "outputs": [
    {
     "data": {
      "text/plain": [
       "nan"
      ]
     },
     "execution_count": 77,
     "metadata": {},
     "output_type": "execute_result"
    }
   ],
   "source": [
    "b = np.where(a > 5, a, np.nan)\n",
    "b.sum()"
   ]
  },
  {
   "cell_type": "code",
   "execution_count": 76,
   "metadata": {},
   "outputs": [
    {
     "data": {
      "text/plain": [
       "24.0"
      ]
     },
     "execution_count": 76,
     "metadata": {},
     "output_type": "execute_result"
    }
   ],
   "source": [
    "# exclude np.nan\n",
    "np.nansum(b)"
   ]
  },
  {
   "cell_type": "code",
   "execution_count": 78,
   "metadata": {},
   "outputs": [
    {
     "name": "stdout",
     "output_type": "stream",
     "text": [
      "[0 0 0 0 1 1 1 1 2 2 2 2]\n",
      "[0 1 2 0 1 2 0 1 2 0 1 2]\n"
     ]
    }
   ],
   "source": [
    "# repeat and tile\n",
    "a = np.arange(3)\n",
    "print(np.repeat(a, 4))\n",
    "print(np.tile(a, 4))"
   ]
  },
  {
   "cell_type": "code",
   "execution_count": 81,
   "metadata": {},
   "outputs": [
    {
     "name": "stdout",
     "output_type": "stream",
     "text": [
      "landuse\n",
      " [[2 4 1 3 1]\n",
      " [4 3 4 2 4]\n",
      " [4 3 4 4 1]\n",
      " [1 1 2 3 4]\n",
      " [1 2 2 4 1]]\n",
      "landuse\n",
      " [[0.54833604 0.74836874 0.35983791 0.42305584 0.98382812]\n",
      " [0.11286888 0.83202516 0.50559714 0.68884135 0.13679297]\n",
      " [0.15966468 0.88262241 0.38734115 0.99140524 0.74592235]\n",
      " [0.20169731 0.02079414 0.06119758 0.0961225  0.84725046]\n",
      " [0.69689801 0.85582271 0.1118459  0.03888632 0.3362939 ]]\n"
     ]
    }
   ],
   "source": [
    "# argmax, argmin, argsort nonzero returns the result of index, \n",
    "# very helpful when you need to based on an array's value to located an element in another array\n",
    "\n",
    "# find the precip on different land cover types\n",
    "landcover     = np.random.randint(1, 5, [5, 5])\n",
    "precipitation = np.random.random([5, 5])\n",
    "\n",
    "print('landuse\\n', landcover)\n",
    "print('landuse\\n', precipitation)\n",
    "\n",
    "# plot\n",
    "import matplotlib.pyplot as plt\n",
    "\n",
    "\n",
    "# find location of irrigated land\n",
    "\n",
    "\n",
    "# identify the precipitation on these cells and calculate the mean\n",
    "\n",
    "\n",
    "\n",
    "# identify the wetest and driest land cover and their mean precipitation"
   ]
  },
  {
   "cell_type": "code",
   "execution_count": null,
   "metadata": {},
   "outputs": [],
   "source": [
    "np.clip\n"
   ]
  },
  {
   "cell_type": "code",
   "execution_count": 82,
   "metadata": {},
   "outputs": [
    {
     "data": {
      "text/plain": [
       "array([3, 5])"
      ]
     },
     "execution_count": 82,
     "metadata": {},
     "output_type": "execute_result"
    }
   ],
   "source": [
    "# How to get the common items between two python numpy arrays?\n",
    "a = [1, 3, 5, 7, 9]\n",
    "b = [2, 3, 4, 5, 6]\n",
    "np.intersect1d(a, b)"
   ]
  },
  {
   "cell_type": "code",
   "execution_count": 83,
   "metadata": {},
   "outputs": [
    {
     "data": {
      "text/plain": [
       "[<matplotlib.lines.Line2D at 0x21d63cc0048>]"
      ]
     },
     "execution_count": 83,
     "metadata": {},
     "output_type": "execute_result"
    },
    {
     "data": {
      "image/png": "[encoded data removed]",
      "text/plain": [
       "<Figure size 432x288 with 1 Axes>"
      ]
     },
     "metadata": {
      "needs_background": "light"
     },
     "output_type": "display_data"
    }
   ],
   "source": [
    "# Other useful function\n",
    "\n",
    "# calculate histogram/freq\n",
    "mu, sigma = 2, 0.5\n",
    "v = np.random.normal(mu,sigma,10000)\n",
    "(n, bins) = np.histogram(v, bins=50, density=True)\n",
    "plt.plot(.5*(bins[1:]+bins[:-1]), n)"
   ]
  },
  {
   "cell_type": "code",
   "execution_count": null,
   "metadata": {},
   "outputs": [],
   "source": []
  }
 ],
 "metadata": {
  "kernelspec": {
   "display_name": "Python 3",
   "language": "python",
   "name": "python3"
  },
  "language_info": {
   "codemirror_mode": {
    "name": "ipython",
    "version": 3
   },
   "file_extension": ".py",
   "mimetype": "text/x-python",
   "name": "python",
   "nbconvert_exporter": "python",
   "pygments_lexer": "ipython3",
   "version": "3.7.4"
  }
 },
 "nbformat": 4,
 "nbformat_minor": 4
}
